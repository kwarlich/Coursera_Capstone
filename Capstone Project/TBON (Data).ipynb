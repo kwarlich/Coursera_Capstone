{
 "cells": [
  {
   "cell_type": "markdown",
   "metadata": {},
   "source": [
    "# Battle of the Neighborhood Week 1"
   ]
  },
  {
   "cell_type": "markdown",
   "metadata": {},
   "source": [
    "## Introduction/Business Problem"
   ]
  },
  {
   "cell_type": "markdown",
   "metadata": {},
   "source": [
    "A client wants to open a comic book store. However, they are torn between selecting two different cities (El Segundo, California and Hermosa Beach, California). Another factor in consideration is that the business would be a speciality store and must exist with some distance from its competiton. The question is, \"What is the best city for the client's store with consideration for their competiton.\""
   ]
  },
  {
   "cell_type": "markdown",
   "metadata": {},
   "source": [
    "## Data"
   ]
  },
  {
   "cell_type": "markdown",
   "metadata": {},
   "source": [
    "In order to address the client's problem I will first want to create a map of the two cities using the folium libraries. Once the maps are complete, I would then use the foursquare location data for the location of the venues inside of the cities. I would make them into a Pandas dataframes. Each of the dataframe would allow me to manipulate the information so i would be able to narrow down the type of venues that necessarily important to answer the question. when i would be able to see if there is another comic book store in the area. Once I am able to see if there is a comic book store within the area I would be able to answer his question. Which city would be best for his store."
   ]
  },
  {
   "cell_type": "code",
   "execution_count": null,
   "metadata": {},
   "outputs": [],
   "source": []
  }
 ],
 "metadata": {
  "kernelspec": {
   "display_name": "Python 3",
   "language": "python",
   "name": "python3"
  },
  "language_info": {
   "codemirror_mode": {
    "name": "ipython",
    "version": 3
   },
   "file_extension": ".py",
   "mimetype": "text/x-python",
   "name": "python",
   "nbconvert_exporter": "python",
   "pygments_lexer": "ipython3",
   "version": "3.7.6"
  }
 },
 "nbformat": 4,
 "nbformat_minor": 4
}
